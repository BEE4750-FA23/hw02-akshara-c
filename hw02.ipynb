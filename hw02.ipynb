{
  "cells": [
    {
      "cell_type": "markdown",
      "id": "099fcb9c-ef1f-471e-aa52-990f463fe3c5",
      "metadata": {},
      "source": [
        "# BEE 4750 Homework 2: Dissolved Oxygen\n",
        "\n",
        "**Name**: Akshara Chandrabalan\n",
        "\n",
        "**ID**: ac2837\n",
        "\n",
        "> **Due Date**\n",
        ">\n",
        "> Friday, 09/22/23, 9:00pm\n",
        "\n",
        "## Overview\n",
        "\n",
        "### Instructions\n",
        "\n",
        "This assignment asks you to use a simulation model for dissolved oxygen\n",
        "to assess the impacts of two wastewater streams, including minimum\n",
        "treatment levels and the impact of uncertain environmental conditions.\n",
        "You will also be asked to identify a minimum distance for the addition\n",
        "of a third discharge stream.\n",
        "\n",
        "### Load Environment\n",
        "\n",
        "The following code loads the environment and makes sure all needed\n",
        "packages are installed. This should be at the start of most Julia\n",
        "scripts."
      ]
    },
    {
      "cell_type": "code",
      "execution_count": 1,
      "id": "395abf3d",
      "metadata": {},
      "outputs": [
        {
          "name": "stderr",
          "output_type": "stream",
          "text": [
            "\u001b[32m\u001b[1m  Activating\u001b[22m\u001b[39m project at `~/Documents/BEE 5750 /hw02-akshara-c`\n"
          ]
        }
      ],
      "source": [
        "import Pkg\n",
        "Pkg.activate(@__DIR__)\n",
        "Pkg.instantiate()"
      ]
    },
    {
      "cell_type": "code",
      "execution_count": 2,
      "id": "26328b47",
      "metadata": {},
      "outputs": [],
      "source": [
        "using Plots\n",
        "using LaTeXStrings\n",
        "using Distributions"
      ]
    },
    {
      "cell_type": "markdown",
      "id": "b14f7dd1-d84b-42e3-bfb5-5fe12e7ac523",
      "metadata": {},
      "source": [
        "## Problems (Total: 40 Points)\n",
        "\n",
        "A river which flows at 6 km/d is receiving waste discharges from two\n",
        "sources which are 15 km apart, as shown in\n",
        "<a href=\"#fig-river\" class=\"quarto-xref\">Figure 1</a>. The oxygen\n",
        "reaeration rate is 0.55 day<sup>-1</sup>, and the decay rates of CBOD\n",
        "and NBOD are are 0.35 and 0.25 day<sup>-1</sup>, respectively. The\n",
        "river’s saturated dissolved oxygen concentration is 10m g/L.\n",
        "\n",
        "![Figure 1: Schematic of the\n",
        "system](attachment:figures/river_diagram.png)"
      ]
    },
    {
      "cell_type": "markdown",
      "id": "8d9711cb-a201-4f24-8e47-91e8e4670a63",
      "metadata": {},
      "source": [
        "### Problem 1 (8 points) - DONE COMPUTATION, NEED TO EDIT/REFINE AND WRITE ANSWER STATEMENT\n",
        "\n",
        "If the characteristics of the river inflow and waste discharges are\n",
        "given in <a href=\"#tbl-river\" class=\"quarto-xref\">Table 1</a>, write a\n",
        "Julia model to compute the dissolved oxygen concentration from the first\n",
        "wastewater discharge to an arbitrary distance `d` km downstream. Use\n",
        "your model to compute the maximum dissolved oxygen concentration up to\n",
        "50km downstream and how far downriver this maximum occurs.\n",
        "\n",
        "|    Parameter     |            River Inflow |         Waste Stream 1 |         Waste Stream 2 |\n",
        "|:----------------:|------------------------:|-----------------------:|-----------------------:|\n",
        "|      Inflow      | 100,000 L</sup>/d | 10,000 L</sup>/d | 15,000 L</sup>/d |\n",
        "| DO Concentration |                7.5 mg/L |                 5 mg/L |                 5 mg/L |\n",
        "|       CBOD       |                  5 mg/L |                50 mg/L |                45 mg/L |\n",
        "|       NBOD       |                  5 mg/L |                35 mg/L |                35 mg/L |\n",
        "\n",
        "Table 1: River inflow and waste stream characteristics for Problem 1."
      ]
    },
    {
      "cell_type": "code",
      "execution_count": 21,
      "id": "ec70c18b",
      "metadata": {},
      "outputs": [
        {
          "data": {
            "text/plain": [
              "4.8823643755173025"
            ]
          },
          "metadata": {},
          "output_type": "display_data"
        }
      ],
      "source": [
        "# river, waste stream 1, and waste stream 2 inflows\n",
        "r_in = 100000\n",
        "ws1_in = 10000\n",
        "ws2_in = 15000\n",
        "# given DO concentrations\n",
        "r_Ci = 7.5\n",
        "ws1_Ci = 5\n",
        "ws2_Ci = 5\n",
        "# given CBOD concentrations\n",
        "r_Bi = 5\n",
        "ws1_Bi = 50\n",
        "ws2_Bi = 45\n",
        "# given NBOD concentrations\n",
        "r_Ni = 5\n",
        "ws1_Ni = 35\n",
        "ws2_Ni = 35\n",
        "\n",
        "function diss_O2(d, Cs, ka, kc, kn, U)\n",
        "    α1 = exp(-ka * d / U) \n",
        "    α2 = (kc / (ka - kc)) * (exp(-kc * d / U) - α1)\n",
        "    α3 = (kn / (ka - kn)) * (exp(-kn * d / U) - α1)\n",
        "\n",
        "    C0 = ((r_Ci * r_in) + (ws1_Ci * ws1_in))/(r_in + ws1_in)\n",
        "    B0 = ((r_Bi * r_in) + (ws1_Bi * ws1_in))/(r_in + ws1_in)\n",
        "    N0 = ((r_Ni * r_in) + (ws1_Ni * ws1_in))/(r_in + ws1_in)\n",
        "\n",
        "    if (d >= 0) && (d <= 15)\n",
        "        C = (Cs * (1 - α1)) + (C0 * α1) - (B0 * α2) - (N0 * α3)\n",
        "        return C\n",
        "    elseif (d > 15)\n",
        "        C15 = (Cs * (1 - (exp(-ka * 15 / U) ))) + (C0 * (exp(-ka * 15 / U) )) - (B0 * ((kc / (ka - kc)) * (exp(-kc * 15 / U) - (exp(-ka * 15 / U) )))) - (N0 * ((kn / (ka - kn)) * (exp(-kn * 15 / U) - (exp(-ka * 15 / U) )))) \n",
        "        C15_mix = (((C15 * (r_in + ws1_in)) + (ws2_Ci * ws2_in)) / (r_in + ws1_in + ws2_in))   \n",
        "        B15_mix = B0 * exp(-kc * 15 / U)\n",
        "        N15_mix = N0 * exp(-kn * 15 / U)\n",
        "\n",
        "        C = (Cs * (1 - α1)) + (C15_mix * α1) - (B15_mix * α2) - (N15_mix * α3)\n",
        "        return C\n",
        "    else\n",
        "        throw(error(\"input d must be greater than 0, enter again\"))\n",
        "    end  \n",
        "end\n",
        "\n",
        "# testing function\n",
        "diss_O2(15, 10, 0.55, 0.35, 0.25, 6)"
      ]
    },
    {
      "cell_type": "code",
      "execution_count": 78,
      "id": "8a5addc8",
      "metadata": {},
      "outputs": [
        {
          "name": "stdout",
          "output_type": "stream",
          "text": [
            "C_min = 4.71\n",
            "C_min_dist = 10.9\n",
            "C_max = 9.26\n",
            "C_max_dist = 50.0\n"
          ]
        }
      ],
      "source": [
        "# finding max and min DO within 50 km downstream\n",
        "d = collect(0:0.1:50)\n",
        "C_val = []\n",
        "for i = 1:length(d)\n",
        "    C = diss_O2(d[i], 10, 0.55, 0.35, 0.25, 6) \n",
        "    append!(C_val, C)\n",
        "end\n",
        "\n",
        "min_DO = findmin(C_val)\n",
        "C_min = round(min_DO[1]; digits = 2)\n",
        "@show C_min\n",
        "C_min_dist = d[min_DO[2]]\n",
        "@show C_min_dist \n",
        "\n",
        "max_DO = findmax(C_val)\n",
        "C_max = round(max_DO[1]; digits = 2)\n",
        "@show C_max\n",
        "C_max_dist = d[max_DO[2]]\n",
        "@show C_max_dist;"
      ]
    },
    {
      "cell_type": "markdown",
      "id": "92d6fc23",
      "metadata": {},
      "source": [
        "C_min and C_max are in mg/L and C_min_dist and C_min_dist are in km. "
      ]
    },
    {
      "cell_type": "markdown",
      "id": "0e93c34c-09f5-48d5-98af-15674255cfed",
      "metadata": {},
      "source": [
        "### Problem 2 (4 points)\n",
        "\n",
        "Use your model to plot the dissolved oxygen concentration in the river\n",
        "from the first waste stream to 50km downstream. What do you notice?"
      ]
    },
    {
      "cell_type": "code",
      "execution_count": null,
      "id": "c4c76b14",
      "metadata": {},
      "outputs": [],
      "source": []
    },
    {
      "cell_type": "markdown",
      "id": "6d098b0d-5a16-4711-8926-d63cad06a894",
      "metadata": {},
      "source": [
        "### Problem 3 (3 points)\n",
        "\n",
        "Under the assumptions of Problem 1, determine the distance from waste\n",
        "stream 2 it will take for the dissolved oxygen concentration of the\n",
        "river to recover to 6 mg/L."
      ]
    },
    {
      "cell_type": "markdown",
      "id": "ad5cdcb4-dbf9-4d56-bf03-12c2c4ca2de4",
      "metadata": {},
      "source": [
        "### Problem 4 (5 points)\n",
        "\n",
        "What is the minimum level of treatment (% removal of organic waste) for\n",
        "waste stream 2 that will ensure that the dissolved oxygen concentration\n",
        "never drops below 4 mg/L, assuming that waste stream 1 remains\n",
        "untreated?"
      ]
    },
    {
      "cell_type": "markdown",
      "id": "75a4d521-4a8e-49bd-9ddd-e3a04e545145",
      "metadata": {},
      "source": [
        "### Problem 5 (5 points)\n",
        "\n",
        "If both waste streams are treated equally, what is the minimum level of\n",
        "treatment (% removal of organic waste) for the two sources required to\n",
        "ensure that the dissolved oxygen concentration never drops below 4 mg/L?"
      ]
    },
    {
      "cell_type": "markdown",
      "id": "a31a496a-35d5-42e2-be89-35bd93269b75",
      "metadata": {},
      "source": [
        "### Problem 6 (5 points)\n",
        "\n",
        "Suppose you are responsible for designing a waste treatment plan for\n",
        "discharges into the river, with a regulatory mandate to keep the\n",
        "dissolved oxygen concentration above 4 mg/L. Discuss whether you’d opt\n",
        "to treat waste stream 2 alone or both waste streams equally. What other\n",
        "information might you need to make a conclusion, if any?"
      ]
    },
    {
      "cell_type": "markdown",
      "id": "87aecc56-2578-4e19-8ccb-065895c5dd3f",
      "metadata": {},
      "source": [
        "### Problem 7 (5 points)\n",
        "\n",
        "Suppose that it is known that the DO concentrations at the river inflow\n",
        "can vary uniformly between 6 mg/L and 8 mg/L. How often will the\n",
        "treatment plan identified in Problem 5 (both waste streams treated\n",
        "equally) fail to comply with the regulatory standard?"
      ]
    },
    {
      "cell_type": "markdown",
      "id": "049f84b1-c21c-4539-83e8-ea8a441d18d1",
      "metadata": {},
      "source": [
        "### Problem 8 (5 points)\n",
        "\n",
        "A factory is planning a third wastewater discharge into the river\n",
        "downstream of the second plant. This discharge would consist of\n",
        "5000 L</sup>/day of wastewater with a dissolved oxygen content of 4.5\n",
        "mg/L and CBOD and NBOD levels of 50 and 45 mg/L, respectively.\n",
        "\n",
        "Assume that the treatment plan you identified in Problem 5 is still in\n",
        "place for the existing discharges. If the third discharge will not be\n",
        "treated, under the original inflow conditions (7.5 mg/L DO), how far\n",
        "downstream from the second discharge does this third discharge need to\n",
        "be placed to keep the river concentration from dropping below 4 mg/L?"
      ]
    },
    {
      "cell_type": "markdown",
      "id": "beaf7155-2b73-4559-a2d2-b41e2eb1e1de",
      "metadata": {},
      "source": [
        "## References\n",
        "\n",
        "List any external references consulted, including classmates.\n",
        "\n",
        "https://www.tutorialspoint.com/julia/julia_arrays.htm\n",
        "\n",
        "Consulted with: Christine Swanson"
      ]
    }
  ],
  "metadata": {
    "kernelspec": {
      "display_name": "Julia 1.9.2",
      "language": "julia",
      "name": "julia-1.9"
    },
    "language_info": {
      "file_extension": ".jl",
      "mimetype": "application/julia",
      "name": "julia",
      "version": "1.9.2"
    }
  },
  "nbformat": 4,
  "nbformat_minor": 5
}
